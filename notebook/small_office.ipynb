{
 "cells": [
  {
   "cell_type": "code",
   "execution_count": 1,
   "metadata": {},
   "outputs": [
    {
     "name": "stderr",
     "output_type": "stream",
     "text": [
      "Using TensorFlow backend.\n"
     ]
    },
    {
     "name": "stdout",
     "output_type": "stream",
     "text": [
      "Automatically created module for IPython interactive environment\n"
     ]
    }
   ],
   "source": [
    "from pyfmi import load_fmu\n",
    "import os \n",
    "import sys\n",
    "import numpy as np\n",
    "import pandas as pd\n",
    "from pylab import *\n",
    "from time import sleep\n",
    "import seaborn as sn\n",
    "from utils import Battery, SolarPanel\n",
    "import calendar \n",
    "from datetime import timedelta, date\n",
    "import logging\n",
    "import math\n",
    "import gym\n",
    "from gym import spaces\n",
    "from gym.utils import seeding\n",
    "\n",
    "\n",
    "\n",
    "import random\n",
    "import gym\n",
    "import numpy as np\n",
    "from collections import deque\n",
    "from keras.models import Sequential\n",
    "from keras.layers import Dense\n",
    "from keras.optimizers import Adam\n",
    "\n",
    "\n",
    "\n",
    "%matplotlib inline\n",
    "\n",
    "plt.rcParams[\"figure.figsize\"] = (15,5)\n",
    "\n",
    "print(__doc__)"
   ]
  },
  {
   "cell_type": "code",
   "execution_count": null,
   "metadata": {
    "collapsed": true
   },
   "outputs": [],
   "source": [
    "filename = 'small_office'\n",
    "model = load_fmu(filename + '.fmu', log_file_name='log_file.txt', kind='auto')"
   ]
  },
  {
   "cell_type": "code",
   "execution_count": null,
   "metadata": {
    "collapsed": true
   },
   "outputs": [],
   "source": [
    "data = pd.DataFrame()\n",
    "battery = Battery(capacity=5000)\n",
    "solar = SolarPanel(area=50, f_active=0.90,\n",
    "                   eta_cell=0.9, eta_inv=0.9)\n",
    "\n",
    "day = 1\n",
    "for ii, i in enumerate(range(152, 160)):\n",
    "    length = timeStop = 86400\n",
    "    numSteps = timeStop/6\n",
    "    numSteps = 144\n",
    "    opts = model.simulate_options()\n",
    "    opts['ncp'] = numSteps\n",
    "    t = np.linspace(i*length, (i+1) * timeStop,numSteps + 1, dtype=np.int64)\n",
    "    day += 1\n",
    "    \n",
    "    start_time = i*86400\n",
    "    final_time=(i+1)*86400\n",
    "    \n",
    "    battery_action = np.random.choice([-2000, 2000], 144)\n",
    "    battery_action = np.insert(battery_action, 0,0)\n",
    "    battery_flag = battery.step(battery_action)\n",
    "    \n",
    "    # energyplus model input\n",
    "    avail_manager_action = np.random.randint(0, 2, 144)\n",
    "    avail_manager_action = np.insert(avail_manager_action, 0, 0)\n",
    "    ut = np.transpose(np.vstack((t, np.repeat(avail_manager_action, 1))))\n",
    "    input_object = ('Q', ut)\n",
    "    \n",
    "    res = model.simulate(start_time=start_time, final_time=final_time, input=input_object, options=opts)\n",
    "    \n",
    "    #reading data from csv file\n",
    "#     sleep(1)\n",
    "#     df = pd.read_csv('Output_EPExport_Slave/' + filename + '.csv', index_col='Date/Time')\n",
    "    df = pd.DataFrame({})\n",
    "    for key in model.get_model_variables().keys():\n",
    "        df[key] = res[key]\n",
    "    df['managerAction'] = avail_manager_action\n",
    "    df[battery.id] = battery.get_history()['state'][ii*numSteps: (ii+1)*numSteps + 1]\n",
    "    df['charge_discharge'] = battery.get_history()['current'][ii*numSteps: (ii+1)*numSteps + 1]\n",
    "    df['solar_generation'] = solar.step(res['directSolarRad'])\n",
    "    df['substation_electiricty'] = res['totalDemand'] - df['charge_discharge'] - df['solar_generation']\n",
    "    df.index = pd.DatetimeIndex(pd.date_range('6/' + str(day) + '/2017', periods=145, freq='10min'))\n",
    "\n",
    "    data = data.append(df)\n"
   ]
  },
  {
   "cell_type": "code",
   "execution_count": null,
   "metadata": {
    "collapsed": true
   },
   "outputs": [],
   "source": [
    "data.columns"
   ]
  },
  {
   "cell_type": "code",
   "execution_count": 2,
   "metadata": {
    "collapsed": true
   },
   "outputs": [],
   "source": [
    "logger = logging.getLogger(__name__)\n",
    "\"\"\"\n",
    "EnergyPlus FMU model for co-simulation.\n",
    "\"\"\"\n",
    "\n",
    "class EP(gym.Env):\n",
    "    \n",
    "    reward_range = (-np.inf, np.inf)\n",
    "    action_space = None\n",
    "    observation_space = None\n",
    "    \n",
    "    def __init__(self, \n",
    "                 energy_plus_file,\n",
    "                 solar_panel_area=50,\n",
    "                 solar_panel_percent_active=0.9,\n",
    "                 solar_panel_efficiency=0.9,\n",
    "                 inverter_efficiency=0.9,\n",
    "                 battery_discharge_efficiency=0.9,\n",
    "                 battery_charge_efficiency=0.9,\n",
    "                 battery_capacity=5000,\n",
    "                 simulation_length=10):\n",
    "        \n",
    "        self.model = load_fmu(energy_plus_file, \n",
    "                              log_file_name='log_file.txt',\n",
    "                              kind='auto')\n",
    "        \n",
    "        \n",
    "        self.sim_duration = 86400\n",
    "        self.numSteps = 144\n",
    "        self.opts = self.model.simulate_options()\n",
    "        self.opts['ncp'] = self.numSteps\n",
    "        \n",
    "        self.battery = Battery(capacity=battery_capacity,\n",
    "                          charge_efficiency=battery_charge_efficiency,\n",
    "                          discharge_efficiency=battery_discharge_efficiency)\n",
    "        self.solar = SolarPanel(area=solar_panel_area,\n",
    "                           f_active=solar_panel_percent_active,\n",
    "                           eta_cell=solar_panel_efficiency,\n",
    "                           eta_inv=inverter_efficiency)\n",
    "        self._seed()\n",
    "        self.action_space = None\n",
    "        self.state = None\n",
    "        self.observation_space = None\n",
    "        self.date =  datetime.date(2017, 6, 1)\n",
    "        self.counter = 0\n",
    "        self.store = pd.DataFrame({})\n",
    "        self.time = self.model.time\n",
    "        \n",
    "\n",
    "    def _seed(self, seed=None):\n",
    "        self.np_random, seed = seeding.np_random(seed)\n",
    "        return [seed]\n",
    "    \n",
    "    \n",
    "    def _step(self, action):\n",
    "#         assert self.action_space.contains(action), \"%r (%s) invalid\"%(action, type(action))\n",
    "        state = self.state\n",
    "        \n",
    "        start_time = self.counter * self.sim_duration\n",
    "        final_time = (self.counter + 1) * self.sim_duration\n",
    "        \n",
    "        t = np.linspace(start_time,\n",
    "                        final_time,\n",
    "                        self.numSteps + 1, \n",
    "                        dtype=np.int64)\n",
    "\n",
    "\n",
    "\n",
    "        battery_action = action # replace with action \n",
    "        battery_flag = self.battery.step(battery_action)\n",
    "\n",
    "#         avail_manager_action = action[:, 1]  # skipping the HVAC control for now\n",
    "        avail_manager_action = np.random.randint(1, 2, 145)\n",
    "        \n",
    "        ut = np.transpose(np.vstack((t, np.repeat(avail_manager_action, 1))))\n",
    "        input_object = ('Q', ut)\n",
    "\n",
    "        res = self.model.simulate(start_time=start_time, \n",
    "                             final_time=final_time,\n",
    "                             input=input_object,\n",
    "                             options=self.opts)\n",
    "        self.time = self.model.time\n",
    "\n",
    "\n",
    "        df = pd.DataFrame({})\n",
    "        for key in self.model.get_model_variables().keys():\n",
    "            df[key] = res[key]\n",
    "            \n",
    "        df['managerAction'] = avail_manager_action \n",
    "        \n",
    "        \n",
    "        df[self.battery.id] = self.battery.get_history()['state'][self.counter * self.numSteps: \n",
    "                                                        (self.counter + 1) * self.numSteps + 1]\n",
    "        df['charge_discharge'] = self.battery.get_history()['current'][self.counter * self.numSteps: \n",
    "                                                        (self.counter + 1) * self.numSteps + 1]\n",
    "        df['solar_generation'] = self.solar.step(res['directSolarRad'])\n",
    "        df['substation_electiricty'] = res['totalDemand'] - df['charge_discharge'] - df['solar_generation']\n",
    "        df.index = pd.DatetimeIndex(pd.date_range(str(self.date.month) + '/' + str(self.date.day) + '/' +\n",
    "                                                  str(self.date.year), periods=145, freq='10min'))\n",
    "\n",
    "        self.store = self.store.append(df)\n",
    "        self.date = self.date + datetime.timedelta(days=1)\n",
    "        \n",
    "        self.state = df[['outdoorDbTemp', 'solar_generation', \n",
    "                         self.battery.id, 'totalDemand']]\n",
    "        \n",
    "        #updating the counter\n",
    "        self.counter += 1\n",
    "        \n",
    "        reward = - np.clip(df['substation_electiricty'], -1, 1)\n",
    "        done = np.zeros(reward.shape[0]) > 1\n",
    "        done[-1] = True\n",
    "        \n",
    "        return self.state.values, reward, done\n",
    "    \n",
    "    def _reset(self):\n",
    "        self.state = np.random.uniform(low=-0.05, high=0.05,\n",
    "                                      size=(145, 4))\n",
    "        return np.array(self.state)\n",
    "    \n",
    "    def _close(self):\n",
    "        self.model.terminate()\n",
    "\n",
    "\n",
    "    \n",
    "    \n",
    "class Space(object):\n",
    "    \"\"\"Defines the observation and action spaces, so you can write generic\n",
    "    code that applies to any Env. For example, you can choose a random\n",
    "    action.\n",
    "    \"\"\"\n",
    "\n",
    "    def sample(self):\n",
    "        \"\"\"\n",
    "        Uniformly randomly sample a random element of this space\n",
    "        \"\"\"\n",
    "        self.state = np.random.uniform(low=-0.05, high=0.05,\n",
    "                                      size=(145, 4))\n",
    "        return np.array(self.state)\n",
    "\n",
    "    def contains(self, x):\n",
    "        \"\"\"\n",
    "        Return boolean specifying if x is a valid\n",
    "        member of this space\n",
    "        \"\"\"\n",
    "        return True\n",
    "\n",
    "    def to_jsonable(self, sample_n):\n",
    "        \"\"\"Convert a batch of samples from this space to a JSONable data type.\"\"\"\n",
    "        # By default, assume identity is JSONable\n",
    "        return sample_n\n",
    "\n",
    "    def from_jsonable(self, sample_n):\n",
    "        \"\"\"Convert a JSONable data type to a batch of samples from this space.\"\"\"\n",
    "        # By default, assume identity is JSONable\n",
    "        return sample_n\n"
   ]
  },
  {
   "cell_type": "code",
   "execution_count": null,
   "metadata": {
    "collapsed": true
   },
   "outputs": [],
   "source": [
    "import numpy as np\n",
    "import gym\n",
    "\n",
    "from keras.models import Sequential\n",
    "from keras.layers import Dense, Activation, Flatten\n",
    "from keras.optimizers import Adam\n",
    "from keras.layers import Input, Embedding, LSTM, Dense\n",
    "from keras.models import Model\n",
    "\n",
    "from rl.agents.dqn import DQNAgent\n",
    "from rl.policy import BoltzmannQPolicy\n",
    "from rl.memory import SequentialMemory"
   ]
  },
  {
   "cell_type": "markdown",
   "metadata": {},
   "source": [
    "# create seperate inputs"
   ]
  },
  {
   "cell_type": "code",
   "execution_count": null,
   "metadata": {
    "collapsed": true
   },
   "outputs": [],
   "source": [
    "solar_input = Input(shape=(145,), dtype='float32', \n",
    "                    name='solar_input')\n",
    "\n",
    "x = Embedding(output_dim=512, input_dim=145,\n",
    "              input_length=1)(solar_input)\n",
    "\n",
    "solar_lstm_out = LSTM(32)(x)\n",
    "\n",
    "\n",
    "batt_input = Input(shape=(145,), dtype='float32', \n",
    "                    name='batt_input')\n",
    "x = Embedding(output_dim=512, input_dim=145,\n",
    "              input_length=1)(batt_input)\n",
    "\n",
    "batt_lstm_out = LSTM(32)(x)\n",
    "\n",
    "\n",
    "\n",
    "temp_input = Input(shape=(145,), dtype='float32', \n",
    "                    name='temp_input')\n",
    "\n",
    "x = Embedding(output_dim=512, input_dim=145,\n",
    "              input_length=1)(temp_input)\n",
    "\n",
    "temp_lstm_out = LSTM(32)(x)\n",
    "\n",
    "\n",
    "\n",
    "demand_input = Input(shape=(145,), dtype='float32', \n",
    "                    name='demand_input')\n",
    "x = Embedding(output_dim=512, input_dim=145,\n",
    "              input_length=1)(demand_input)\n",
    "\n",
    "demand_lstm_out = LSTM(32)(x)\n"
   ]
  },
  {
   "cell_type": "markdown",
   "metadata": {},
   "source": [
    "# concatinating the LSTM outputs"
   ]
  },
  {
   "cell_type": "code",
   "execution_count": null,
   "metadata": {
    "collapsed": true
   },
   "outputs": [],
   "source": [
    "x = keras.layers.concatenate([solar_lstm_out,\n",
    "                             batt_lstm_out,\n",
    "                             temp_lstm_out,\n",
    "                             demand_lstm_out])"
   ]
  },
  {
   "cell_type": "markdown",
   "metadata": {},
   "source": [
    "# Stack dense layers"
   ]
  },
  {
   "cell_type": "code",
   "execution_count": null,
   "metadata": {
    "collapsed": true
   },
   "outputs": [],
   "source": [
    "x = Dense(64, activation='relu')(x)\n",
    "x = Dense(64, activation='relu')(x)\n",
    "x = Dense(64, activation='relu')(x)"
   ]
  },
  {
   "cell_type": "markdown",
   "metadata": {},
   "source": [
    "# Defining two outputs for each action"
   ]
  },
  {
   "cell_type": "code",
   "execution_count": null,
   "metadata": {
    "collapsed": true
   },
   "outputs": [],
   "source": [
    "batt_output = Dense(1, activation='sigmoid', name='batt_output')(x)\n",
    "hvac_output = Dense(1, activation='sigmoid', name='hvac_output')(x)"
   ]
  },
  {
   "cell_type": "markdown",
   "metadata": {},
   "source": [
    "# defining the model"
   ]
  },
  {
   "cell_type": "code",
   "execution_count": null,
   "metadata": {
    "collapsed": true
   },
   "outputs": [],
   "source": [
    "model = Model(inputs=[solar_input, batt_input,\n",
    "                      temp_input, demand_input],\n",
    "              outputs=[batt_output, hvac_output])\n",
    "#                 outputs=[batt_output])"
   ]
  },
  {
   "cell_type": "markdown",
   "metadata": {},
   "source": [
    "# setting up dqn"
   ]
  },
  {
   "cell_type": "code",
   "execution_count": null,
   "metadata": {
    "collapsed": true
   },
   "outputs": [],
   "source": [
    "memory = SequentialMemory(limit=50000, window_length=1)\n",
    "policy = BoltzmannQPolicy()"
   ]
  },
  {
   "cell_type": "code",
   "execution_count": null,
   "metadata": {
    "collapsed": true
   },
   "outputs": [],
   "source": [
    "dqn = DQNAgent(model=model, nb_actions=145,\n",
    "               memory=memory, nb_steps_warmup=10,\n",
    "               enable_dueling_network=True, \n",
    "               dueling_type='avg', target_model_update=1e-2, \n",
    "               policy=policy)\n",
    "dqn.compile(Adam(lr=1e-3), metrics=['mae'])"
   ]
  },
  {
   "cell_type": "code",
   "execution_count": 3,
   "metadata": {
    "collapsed": true
   },
   "outputs": [],
   "source": [
    "import random\n",
    "import gym\n",
    "import numpy as np\n",
    "from collections import deque\n",
    "from keras.models import Sequential\n",
    "from keras.layers import Dense\n",
    "from keras.optimizers import Adam"
   ]
  },
  {
   "cell_type": "markdown",
   "metadata": {},
   "source": [
    "# DDQN with discretized action space"
   ]
  },
  {
   "cell_type": "code",
   "execution_count": 4,
   "metadata": {
    "collapsed": true
   },
   "outputs": [],
   "source": [
    "class DDQNAgent(object):\n",
    "    \"\"\"\n",
    "    Deep Q-Learning agent implementation.\n",
    "    \"\"\"\n",
    "    \n",
    "    \n",
    "    def __init__(self, state_size, action_size, \n",
    "                 memory_lenght, discount):\n",
    "        \n",
    "        self.state_size = state_size\n",
    "        self.action_size = action_size\n",
    "        self.memory = deque(maxlen=memory_lenght)\n",
    "        self.gamma = discount\n",
    "        self.epsilon = 0.97\n",
    "        self.epsilon_min = 0.01\n",
    "        self.epsilon_decay = 0.995\n",
    "        self.learning_rate = 0.01\n",
    "        self.network = self._build_network()\n",
    "        self.target_network = self._build_network()\n",
    "        self.update_target_network()\n",
    "        \n",
    "    \n",
    "    def _build_network(self):\n",
    "        \"\"\"\n",
    "        build neural network for Deep Q-learning model.\n",
    "        \"\"\"\n",
    "        \n",
    "        network = Sequential()\n",
    "        network.add(Dense(256, input_dim=self.state_size,\n",
    "                         activation='relu'))\n",
    "        network.add(Dense(256, activation='relu'))\n",
    "        network.add(Dense(64, activation='relu'))\n",
    "        network.add(Dense(self.action_size, activation='linear'))\n",
    "        network.compile(loss='mse',\n",
    "                       optimizer=Adam(lr=self.learning_rate))\n",
    "        return network\n",
    "\n",
    "    def update_target_network(self):\n",
    "        # copy weights from model to target_model\n",
    "        self.target_network.set_weights(self.network.get_weights())\n",
    "        \n",
    "    def remember(self, state, action, reward, next_state, done):\n",
    "        for mem in zip(state, action, reward, next_state, done):\n",
    "            self.memory.append(mem)\n",
    "\n",
    "    \n",
    "    def act(self, states):\n",
    "        actions = []\n",
    "        for state in states:\n",
    "            if np.random.rand() <= self.epsilon:\n",
    "                actions.append(random.randrange(self.action_size))\n",
    "            action_value = self.network.predict(state.reshape((1,4)))\n",
    "            actions.append(np.argmax(action_value))\n",
    "        return actions\n",
    "    \n",
    "    def replay(self, batch_size):\n",
    "        minibatch = random.sample(self.memory, batch_size)\n",
    "        for state, action, reward, next_state, done in minibatch:\n",
    "            target = self.network.predict(state.reshape((1, 4)))\n",
    "            if done:\n",
    "                target[0][action] = reward\n",
    "            else:\n",
    "                a = self.network.predict(next_state.reshape((1, 4)))[0]\n",
    "                t = self.target_network.predict(next_state.reshape((1, 4)))[0]\n",
    "                target[0][action] = reward + self.gamma * t[np.argmax(a)]\n",
    "            self.network.fit(state.reshape((1,4)), target, epochs=1, verbose=0)\n",
    "        if self.epsilon > self.epsilon_min:\n",
    "            self.epsilon *= self.epsilon_decay\n",
    "            \n",
    "        \n",
    "    def load(self, name):\n",
    "        self.network.load_weights(name)\n",
    "\n",
    "    def save(self, name):\n",
    "        self.network.save_weights(name)   "
   ]
  },
  {
   "cell_type": "code",
   "execution_count": 5,
   "metadata": {
    "scrolled": true
   },
   "outputs": [
    {
     "name": "stdout",
     "output_type": "stream",
     "text": [
      "Simulation interval    : 0 - 86400.0 seconds.\n",
      "Elapsed simulation time: 0.0506520271301 seconds.\n",
      "Simulation interval    : 86400 - 172800.0 seconds.\n",
      "Elapsed simulation time: 0.0606489181519 seconds.\n",
      "Simulation interval    : 172800 - 259200.0 seconds.\n",
      "Elapsed simulation time: 0.0488770008087 seconds.\n",
      "Simulation interval    : 259200 - 345600.0 seconds.\n",
      "Elapsed simulation time: 0.0578870773315 seconds.\n",
      "Simulation interval    : 345600 - 432000.0 seconds.\n",
      "Elapsed simulation time: 0.0540511608124 seconds.\n",
      "Simulation interval    : 432000 - 518400.0 seconds.\n",
      "Elapsed simulation time: 0.0635290145874 seconds.\n",
      "Simulation interval    : 518400 - 604800.0 seconds.\n",
      "Elapsed simulation time: 0.0631439685822 seconds.\n",
      "Simulation interval    : 604800 - 691200.0 seconds.\n",
      "Elapsed simulation time: 0.0624771118164 seconds.\n",
      "Simulation interval    : 691200 - 777600.0 seconds.\n",
      "Elapsed simulation time: 0.0710849761963 seconds.\n",
      "Simulation interval    : 777600 - 864000.0 seconds.\n",
      "Elapsed simulation time: 0.0669739246368 seconds.\n",
      "Simulation interval    : 864000 - 950400.0 seconds.\n",
      "Elapsed simulation time: 0.0636780261993 seconds.\n",
      "Simulation interval    : 950400 - 1036800.0 seconds.\n",
      "Elapsed simulation time: 0.0633180141449 seconds.\n",
      "Simulation interval    : 1036800 - 1123200.0 seconds.\n",
      "Elapsed simulation time: 0.0948340892792 seconds.\n",
      "Simulation interval    : 1123200 - 1209600.0 seconds.\n",
      "Elapsed simulation time: 0.0618979930878 seconds.\n",
      "Simulation interval    : 1209600 - 1296000.0 seconds.\n",
      "Elapsed simulation time: 0.0639569759369 seconds.\n",
      "Simulation interval    : 1296000 - 1382400.0 seconds.\n",
      "Elapsed simulation time: 0.0930440425873 seconds.\n",
      "Simulation interval    : 1382400 - 1468800.0 seconds.\n",
      "Elapsed simulation time: 0.0519781112671 seconds.\n",
      "Simulation interval    : 1468800 - 1555200.0 seconds.\n",
      "Elapsed simulation time: 0.0570318698883 seconds.\n",
      "Simulation interval    : 1555200 - 1641600.0 seconds.\n",
      "Elapsed simulation time: 0.0537419319153 seconds.\n",
      "Simulation interval    : 1641600 - 1728000.0 seconds.\n",
      "Elapsed simulation time: 0.0569858551025 seconds.\n",
      "Simulation interval    : 1728000 - 1814400.0 seconds.\n",
      "Elapsed simulation time: 0.0842931270599 seconds.\n",
      "Simulation interval    : 1814400 - 1900800.0 seconds.\n",
      "Elapsed simulation time: 0.0599000453949 seconds.\n",
      "Simulation interval    : 1900800 - 1987200.0 seconds.\n",
      "Elapsed simulation time: 0.067645072937 seconds.\n",
      "Simulation interval    : 1987200 - 2073600.0 seconds.\n",
      "Elapsed simulation time: 0.0546798706055 seconds.\n",
      "Simulation interval    : 2073600 - 2160000.0 seconds.\n",
      "Elapsed simulation time: 0.0684258937836 seconds.\n",
      "Simulation interval    : 2160000 - 2246400.0 seconds.\n",
      "Elapsed simulation time: 0.0657520294189 seconds.\n",
      "Simulation interval    : 2246400 - 2332800.0 seconds.\n",
      "Elapsed simulation time: 0.0498750209808 seconds.\n",
      "Simulation interval    : 2332800 - 2419200.0 seconds.\n",
      "Elapsed simulation time: 0.0764009952545 seconds.\n",
      "Simulation interval    : 2419200 - 2505600.0 seconds.\n",
      "Elapsed simulation time: 0.0591177940369 seconds.\n",
      "Simulation interval    : 2505600 - 2592000.0 seconds.\n",
      "Elapsed simulation time: 0.0869560241699 seconds.\n",
      "Simulation interval    : 2592000 - 2678400.0 seconds.\n",
      "Elapsed simulation time: 0.0670490264893 seconds.\n",
      "Simulation interval    : 2678400 - 2764800.0 seconds.\n",
      "Elapsed simulation time: 0.0728480815887 seconds.\n",
      "Simulation interval    : 2764800 - 2851200.0 seconds.\n",
      "Elapsed simulation time: 0.076366186142 seconds.\n",
      "Simulation interval    : 2851200 - 2937600.0 seconds.\n",
      "Elapsed simulation time: 0.0543069839478 seconds.\n",
      "Simulation interval    : 2937600 - 3024000.0 seconds.\n",
      "Elapsed simulation time: 0.0619769096375 seconds.\n",
      "Simulation interval    : 3024000 - 3110400.0 seconds.\n",
      "Elapsed simulation time: 0.0592567920685 seconds.\n",
      "Simulation interval    : 3110400 - 3196800.0 seconds.\n",
      "Elapsed simulation time: 0.0574190616608 seconds.\n",
      "Simulation interval    : 3196800 - 3283200.0 seconds.\n",
      "Elapsed simulation time: 0.0588297843933 seconds.\n",
      "Simulation interval    : 3283200 - 3369600.0 seconds.\n",
      "Elapsed simulation time: 0.0608749389648 seconds.\n",
      "Simulation interval    : 3369600 - 3456000.0 seconds.\n",
      "Elapsed simulation time: 0.0701069831848 seconds.\n",
      "Simulation interval    : 3456000 - 3542400.0 seconds.\n",
      "Elapsed simulation time: 0.0633189678192 seconds.\n",
      "Simulation interval    : 3542400 - 3628800.0 seconds.\n",
      "Elapsed simulation time: 0.077712059021 seconds.\n",
      "Simulation interval    : 3628800 - 3715200.0 seconds.\n",
      "Elapsed simulation time: 0.0507080554962 seconds.\n",
      "Simulation interval    : 3715200 - 3801600.0 seconds.\n",
      "Elapsed simulation time: 0.058895111084 seconds.\n",
      "Simulation interval    : 3801600 - 3888000.0 seconds.\n",
      "Elapsed simulation time: 0.0639541149139 seconds.\n",
      "Simulation interval    : 3888000 - 3974400.0 seconds.\n",
      "Elapsed simulation time: 0.0596678256989 seconds.\n",
      "Simulation interval    : 3974400 - 4060800.0 seconds.\n",
      "Elapsed simulation time: 0.0597538948059 seconds.\n",
      "Simulation interval    : 4060800 - 4147200.0 seconds.\n",
      "Elapsed simulation time: 0.0573029518127 seconds.\n",
      "Simulation interval    : 4147200 - 4233600.0 seconds.\n",
      "Elapsed simulation time: 0.0547399520874 seconds.\n",
      "Simulation interval    : 4233600 - 4320000.0 seconds.\n",
      "Elapsed simulation time: 0.0539841651917 seconds.\n",
      "Simulation interval    : 4320000 - 4406400.0 seconds.\n",
      "Elapsed simulation time: 0.0531461238861 seconds.\n",
      "Simulation interval    : 4406400 - 4492800.0 seconds.\n",
      "Elapsed simulation time: 0.0640330314636 seconds.\n",
      "Simulation interval    : 4492800 - 4579200.0 seconds.\n",
      "Elapsed simulation time: 0.0677230358124 seconds.\n",
      "Simulation interval    : 4579200 - 4665600.0 seconds.\n",
      "Elapsed simulation time: 0.0715720653534 seconds.\n",
      "Simulation interval    : 4665600 - 4752000.0 seconds.\n",
      "Elapsed simulation time: 0.0602741241455 seconds.\n",
      "Simulation interval    : 4752000 - 4838400.0 seconds.\n",
      "Elapsed simulation time: 0.0611867904663 seconds.\n",
      "Simulation interval    : 4838400 - 4924800.0 seconds.\n",
      "Elapsed simulation time: 0.0606069564819 seconds.\n",
      "Simulation interval    : 4924800 - 5011200.0 seconds.\n",
      "Elapsed simulation time: 0.0685179233551 seconds.\n",
      "Simulation interval    : 5011200 - 5097600.0 seconds.\n",
      "Elapsed simulation time: 0.067302942276 seconds.\n",
      "Simulation interval    : 5097600 - 5184000.0 seconds.\n",
      "Elapsed simulation time: 0.0639500617981 seconds.\n",
      "Simulation interval    : 5184000 - 5270400.0 seconds.\n",
      "Elapsed simulation time: 0.0726311206818 seconds.\n",
      "Simulation interval    : 5270400 - 5356800.0 seconds.\n",
      "Elapsed simulation time: 0.0604121685028 seconds.\n",
      "Simulation interval    : 5356800 - 5443200.0 seconds.\n",
      "Elapsed simulation time: 0.0681159496307 seconds.\n",
      "Simulation interval    : 5443200 - 5529600.0 seconds.\n",
      "Elapsed simulation time: 0.0582699775696 seconds.\n",
      "Simulation interval    : 5529600 - 5616000.0 seconds.\n",
      "Elapsed simulation time: 0.0628950595856 seconds.\n",
      "Simulation interval    : 5616000 - 5702400.0 seconds.\n",
      "Elapsed simulation time: 0.0664598941803 seconds.\n",
      "Simulation interval    : 5702400 - 5788800.0 seconds.\n",
      "Elapsed simulation time: 0.057361125946 seconds.\n",
      "Simulation interval    : 5788800 - 5875200.0 seconds.\n",
      "Elapsed simulation time: 0.0667541027069 seconds.\n",
      "Simulation interval    : 5875200 - 5961600.0 seconds.\n",
      "Elapsed simulation time: 0.0666811466217 seconds.\n",
      "Simulation interval    : 5961600 - 6048000.0 seconds.\n",
      "Elapsed simulation time: 0.0535879135132 seconds.\n",
      "Simulation interval    : 6048000 - 6134400.0 seconds.\n",
      "Elapsed simulation time: 0.0536470413208 seconds.\n",
      "Simulation interval    : 6134400 - 6220800.0 seconds.\n",
      "Elapsed simulation time: 0.0641989707947 seconds.\n",
      "Simulation interval    : 6220800 - 6307200.0 seconds.\n",
      "Elapsed simulation time: 0.0635318756104 seconds.\n",
      "Simulation interval    : 6307200 - 6393600.0 seconds.\n",
      "Elapsed simulation time: 0.065523147583 seconds.\n",
      "Simulation interval    : 6393600 - 6480000.0 seconds.\n",
      "Elapsed simulation time: 0.0719430446625 seconds.\n",
      "Simulation interval    : 6480000 - 6566400.0 seconds.\n",
      "Elapsed simulation time: 0.0660691261292 seconds.\n",
      "Simulation interval    : 6566400 - 6652800.0 seconds.\n",
      "Elapsed simulation time: 0.055046081543 seconds.\n",
      "Simulation interval    : 6652800 - 6739200.0 seconds.\n",
      "Elapsed simulation time: 0.0691108703613 seconds.\n",
      "Simulation interval    : 6739200 - 6825600.0 seconds.\n",
      "Elapsed simulation time: 0.0677897930145 seconds.\n",
      "Simulation interval    : 6825600 - 6912000.0 seconds.\n",
      "Elapsed simulation time: 0.066312789917 seconds.\n"
     ]
    },
    {
     "name": "stdout",
     "output_type": "stream",
     "text": [
      "Simulation interval    : 6912000 - 6998400.0 seconds.\n",
      "Elapsed simulation time: 0.0537829399109 seconds.\n",
      "Simulation interval    : 6998400 - 7084800.0 seconds.\n",
      "Elapsed simulation time: 0.0617990493774 seconds.\n",
      "Simulation interval    : 7084800 - 7171200.0 seconds.\n",
      "Elapsed simulation time: 0.0572838783264 seconds.\n",
      "Simulation interval    : 7171200 - 7257600.0 seconds.\n",
      "Elapsed simulation time: 0.0576369762421 seconds.\n",
      "Simulation interval    : 7257600 - 7344000.0 seconds.\n",
      "Elapsed simulation time: 0.0588839054108 seconds.\n",
      "Simulation interval    : 7344000 - 7430400.0 seconds.\n",
      "Elapsed simulation time: 0.0651049613953 seconds.\n",
      "Simulation interval    : 7430400 - 7516800.0 seconds.\n",
      "Elapsed simulation time: 0.0661599636078 seconds.\n",
      "Simulation interval    : 7516800 - 7603200.0 seconds.\n",
      "Elapsed simulation time: 0.0634608268738 seconds.\n",
      "Simulation interval    : 7603200 - 7689600.0 seconds.\n",
      "Elapsed simulation time: 0.0548839569092 seconds.\n",
      "Simulation interval    : 7689600 - 7776000.0 seconds.\n",
      "Elapsed simulation time: 0.0654771327972 seconds.\n",
      "Simulation interval    : 7776000 - 7862400.0 seconds.\n",
      "Elapsed simulation time: 0.0644979476929 seconds.\n",
      "Simulation interval    : 7862400 - 7948800.0 seconds.\n",
      "Elapsed simulation time: 0.0562188625336 seconds.\n",
      "Simulation interval    : 7948800 - 8035200.0 seconds.\n",
      "Elapsed simulation time: 0.0670778751373 seconds.\n",
      "Simulation interval    : 8035200 - 8121600.0 seconds.\n",
      "Elapsed simulation time: 0.057718038559 seconds.\n",
      "Simulation interval    : 8121600 - 8208000.0 seconds.\n",
      "Elapsed simulation time: 0.0586149692535 seconds.\n",
      "Simulation interval    : 8208000 - 8294400.0 seconds.\n",
      "Elapsed simulation time: 0.0559089183807 seconds.\n",
      "Simulation interval    : 8294400 - 8380800.0 seconds.\n",
      "Elapsed simulation time: 0.058403968811 seconds.\n",
      "Simulation interval    : 8380800 - 8467200.0 seconds.\n",
      "Elapsed simulation time: 0.0598089694977 seconds.\n",
      "Simulation interval    : 8467200 - 8553600.0 seconds.\n",
      "Elapsed simulation time: 0.0560839176178 seconds.\n",
      "Simulation interval    : 8553600 - 8640000.0 seconds.\n",
      "Elapsed simulation time: 0.0620648860931 seconds.\n"
     ]
    }
   ],
   "source": [
    "if __name__ == \"__main__\":\n",
    "    \n",
    "    env = EP('small_office.fmu')\n",
    "    state_size = 4\n",
    "    action_size = 9\n",
    "    agent = DDQNAgent(state_size, action_size, 2000, 0.99)\n",
    "    done = False\n",
    "    batch_size = 32\n",
    "    \n",
    "    \n",
    "\n",
    "    for e in range(10):\n",
    "        states = env.reset()\n",
    "        states = np.reshape(states, [states.shape[0], state_size])\n",
    "        for time in range(10):\n",
    "            actions = agent.act(states)\n",
    "            next_state, reward, done = env.step(actions)\n",
    "            next_state = np.reshape(next_state, [next_state.shape[0], state_size])\n",
    "            agent.remember(states, actions, reward, next_state, done)\n",
    "            states = next_state\n",
    "#             if done:\n",
    "#                 print(\"episode: {}/{}, score: {}, e: {:.2}\"\n",
    "#                       .format(e, EPISODES, time, agent.epsilon))\n",
    "#                 break\n",
    "        if len(agent.memory) > batch_size:\n",
    "            agent.replay(batch_size)\n",
    "        # if e % 10 == 0:\n",
    "        #     agent.save(\"./save/cartpole.h5\")"
   ]
  },
  {
   "cell_type": "code",
   "execution_count": 10,
   "metadata": {
    "collapsed": true
   },
   "outputs": [
    {
     "name": "stderr",
     "output_type": "stream",
     "text": [
      "/home/mfc/.virtualenvs/research/lib/python2.7/site-packages/ipykernel_launcher.py:1: FutureWarning: \n",
      ".resample() is now a deferred operation\n",
      "You called plot(...) on this deferred object which materialized it into a series\n",
      "by implicitly taking the mean.  Use .resample(...).mean() instead\n",
      "  \"\"\"Entry point for launching an IPython kernel.\n"
     ]
    },
    {
     "data": {
      "text/plain": [
       "<matplotlib.axes._subplots.AxesSubplot at 0x7fdc25979750>"
      ]
     },
     "execution_count": 10,
     "metadata": {},
     "output_type": "execute_result"
    },
    {
     "data": {
      "image/png": "[encoded data removed]",
      "text/plain": [
       "<matplotlib.figure.Figure at 0x7fdc240e9550>"
      ]
     },
     "metadata": {},
     "output_type": "display_data"
    }
   ],
   "source": [
    "env.store.substation_electiricty.resample('24H').plot()"
   ]
  },
  {
   "cell_type": "code",
   "execution_count": 11,
   "metadata": {},
   "outputs": [
    {
     "data": {
      "text/plain": [
       "Index([u'zs2Temp', u'outdoorRelHumidity', u'outdorWbTemp', u'nonHvacDemand',\n",
       "       u'Q', u'directSolarRad', u'flag', u'hvacDemand', u'diffuseSolarRad',\n",
       "       u'totalDemand', u'outdoorDbTemp', u'zn2Temp', u'managerAction',\n",
       "       u'battery_0', u'charge_discharge', u'solar_generation',\n",
       "       u'substation_electiricty'],\n",
       "      dtype='object')"
      ]
     },
     "execution_count": 11,
     "metadata": {},
     "output_type": "execute_result"
    }
   ],
   "source": [
    "env.store.columns"
   ]
  },
  {
   "cell_type": "code",
   "execution_count": 6,
   "metadata": {},
   "outputs": [
    {
     "data": {
      "text/plain": [
       "datetime.date(2017, 6, 1)"
      ]
     },
     "execution_count": 6,
     "metadata": {},
     "output_type": "execute_result"
    }
   ],
   "source": [
    "a = EP('./small_office.fmu')\n",
    "a.date"
   ]
  }
 ],
 "metadata": {
  "kernelspec": {
   "display_name": "Python 2",
   "language": "python",
   "name": "python2"
  },
  "language_info": {
   "codemirror_mode": {
    "name": "ipython",
    "version": 2
   },
   "file_extension": ".py",
   "mimetype": "text/x-python",
   "name": "python",
   "nbconvert_exporter": "python",
   "pygments_lexer": "ipython2",
   "version": "2.7.12"
  }
 },
 "nbformat": 4,
 "nbformat_minor": 2
}
